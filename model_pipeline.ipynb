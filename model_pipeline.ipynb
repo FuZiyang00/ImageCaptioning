{
 "cells": [
  {
   "cell_type": "markdown",
   "metadata": {},
   "source": [
    "# Image Captioning project\n"
   ]
  },
  {
   "cell_type": "code",
   "execution_count": null,
   "metadata": {},
   "outputs": [],
   "source": []
  },
  {
   "cell_type": "code",
   "execution_count": 41,
   "metadata": {},
   "outputs": [],
   "source": [
    "import requests\n",
    "import os\n",
    "import zipfile\n",
    "import shutil\n",
    "import json\n",
    "from datasets import load_dataset\n",
    "\n",
    "# Class to download the dataset from the given URL and create the dataset\n",
    "\n",
    "class CreateImageDataset(): \n",
    "    def __init__(self, url, destination_folder, images_folder):\n",
    "      self.url = url\n",
    "      self.destination_folder = destination_folder\n",
    "      self.images_folder = images_folder\n",
    "    \n",
    "    def downloader(self):\n",
    "        repo_url = self.url\n",
    "        destination = self.destination_folder\n",
    "        # Check if the folder already exists\n",
    "\n",
    "        if not os.path.exists(destination):\n",
    "            os.makedirs(destination)\n",
    "\n",
    "        response = requests.get(repo_url, allow_redirects=True)\n",
    "\n",
    "        if response.status_code == 200:\n",
    "            # Save the archive with a descriptive filename\n",
    "            filename = f\"{destination}/{repo_url.split('/')[-1]}\"\n",
    "            with open(filename, 'wb') as f:\n",
    "                f.write(response.content)\n",
    "\n",
    "            # Extract the archive directly within the destination folder (avoiding temporary directories)\n",
    "            try:\n",
    "                with zipfile.ZipFile(filename, 'r') as zip_ref:\n",
    "                    zip_ref.extractall(destination)\n",
    "                print(\"Folder downloaded and extracted to:\", destination)\n",
    "            except zipfile.BadZipFile:\n",
    "                print(f\"Error: Downloaded file {filename} is not a valid ZIP archive.\")\n",
    "            except Exception as e:\n",
    "                print(f\"Failed to unzip archive: {e}\")\n",
    "\n",
    "        else:\n",
    "            print(f\"Failed to download archive. Status code: {response.status_code}\")\n",
    "\n",
    "\n",
    "    def create_dictionary(self):\n",
    "        captions = []\n",
    "        for root, _, files in os.walk(self.destination_folder):\n",
    "            for filename in files:\n",
    "                if filename.endswith('_Description.txt'):\n",
    "                    vegetable_type = os.path.splitext(filename)[0].replace('_Description', '')\n",
    "                    image_file = os.path.join(root, f\"{vegetable_type}_Iconic.jpg\")\n",
    "\n",
    "                    # Combine checks and handle both file existence and destination copy in one step\n",
    "                    if os.path.isfile(image_file) and not os.path.exists(os.path.join(self.images_folder, os.path.basename(image_file))):\n",
    "                        # Create destination folder if necessary\n",
    "                        os.makedirs(self.images_folder, exist_ok=True)\n",
    "                        shutil.copy(image_file, self.images_folder)\n",
    "\n",
    "                    with open(os.path.join(root, filename), 'r') as f:\n",
    "                        description_text = f.read()\n",
    "\n",
    "                    captions.append({\n",
    "                        \"file_name\": os.path.basename(image_file),\n",
    "                        \"text\": description_text\n",
    "                    })\n",
    "\n",
    "        return captions\n",
    "    \n",
    "\n",
    "    def create_dataset(self, captions):\n",
    "        with open(self.images_folder + \"/metadata.jsonl\", 'w') as f:\n",
    "            for item in captions:\n",
    "                f.write(json.dumps(item) + \"\\n\")\n",
    "        \n",
    "        dataset = load_dataset(\"imagefolder\", data_dir=self.images_folder, split=\"train\")\n",
    "        print(\"Dataset created successfully\")\n",
    "        print(\"Dataset info: \", dataset)\n",
    "        return dataset\n"
   ]
  },
  {
   "cell_type": "code",
   "execution_count": 42,
   "metadata": {},
   "outputs": [
    {
     "name": "stdout",
     "output_type": "stream",
     "text": [
      "Folder downloaded and extracted to: ./data\n"
     ]
    }
   ],
   "source": [
    "repo_url = \"https://github.com/marcusklasson/GroceryStoreDataset/archive/refs/heads/master.zip\"\n",
    "destination_folder = \"./data\"\n",
    "images_folder = \"./grocery_store_images\"\n",
    "\n",
    "create_image_dataset = CreateImageDataset(repo_url, destination_folder, images_folder)\n",
    "create_image_dataset.downloader()\n",
    "captions = create_image_dataset.create_dictionary()"
   ]
  },
  {
   "cell_type": "code",
   "execution_count": 44,
   "metadata": {},
   "outputs": [
    {
     "name": "stderr",
     "output_type": "stream",
     "text": [
      "Generating train split: 81 examples [00:00, 7998.74 examples/s]"
     ]
    },
    {
     "name": "stdout",
     "output_type": "stream",
     "text": [
      "Dataset created successfully\n",
      "Dataset info:  DatasetInfo(description='', citation='', homepage='', license='', features={'image': Image(decode=True, id=None), 'text': Value(dtype='string', id=None)}, post_processed=None, supervised_keys=None, task_templates=None, builder_name='imagefolder', dataset_name='imagefolder', config_name='default', version=0.0.0, splits={'train': SplitInfo(name='train', num_bytes=24720, num_examples=81, shard_lengths=None, dataset_name='imagefolder')}, download_checksums={'/home/ziyangfu/Code/ImageCaptioning/grocery_store_images/Alpro-Blueberry-Soyghurt_Iconic.jpg': {'num_bytes': 8512, 'checksum': None}, '/home/ziyangfu/Code/ImageCaptioning/grocery_store_images/Alpro-Fresh-Soy-Milk_Iconic.jpg': {'num_bytes': 10260, 'checksum': None}, '/home/ziyangfu/Code/ImageCaptioning/grocery_store_images/Alpro-Shelf-Soy-Milk_Iconic.jpg': {'num_bytes': 11247, 'checksum': None}, '/home/ziyangfu/Code/ImageCaptioning/grocery_store_images/Alpro-Vanilla-Soyghurt_Iconic.jpg': {'num_bytes': 7528, 'checksum': None}, '/home/ziyangfu/Code/ImageCaptioning/grocery_store_images/Anjou_Iconic.jpg': {'num_bytes': 6682, 'checksum': None}, '/home/ziyangfu/Code/ImageCaptioning/grocery_store_images/Arla-Ecological-Medium-Fat-Milk_Iconic.jpg': {'num_bytes': 9223, 'checksum': None}, '/home/ziyangfu/Code/ImageCaptioning/grocery_store_images/Arla-Ecological-Sour-Cream_Iconic.jpg': {'num_bytes': 13145, 'checksum': None}, '/home/ziyangfu/Code/ImageCaptioning/grocery_store_images/Arla-Lactose-Medium-Fat-Milk_Iconic.jpg': {'num_bytes': 9624, 'checksum': None}, '/home/ziyangfu/Code/ImageCaptioning/grocery_store_images/Arla-Medium-Fat-Milk_Iconic.jpg': {'num_bytes': 9384, 'checksum': None}, '/home/ziyangfu/Code/ImageCaptioning/grocery_store_images/Arla-Mild-Vanilla-Yoghurt_Iconic.jpg': {'num_bytes': 11097, 'checksum': None}, '/home/ziyangfu/Code/ImageCaptioning/grocery_store_images/Arla-Natural-Mild-Low-Fat-Yoghurt_Iconic.jpg': {'num_bytes': 11099, 'checksum': None}, '/home/ziyangfu/Code/ImageCaptioning/grocery_store_images/Arla-Natural-Yoghurt_Iconic.jpg': {'num_bytes': 13693, 'checksum': None}, '/home/ziyangfu/Code/ImageCaptioning/grocery_store_images/Arla-Sour-Cream_Iconic.jpg': {'num_bytes': 12834, 'checksum': None}, '/home/ziyangfu/Code/ImageCaptioning/grocery_store_images/Arla-Sour-Milk_Iconic.jpg': {'num_bytes': 9831, 'checksum': None}, '/home/ziyangfu/Code/ImageCaptioning/grocery_store_images/Arla-Standard-Milk_Iconic.jpg': {'num_bytes': 9525, 'checksum': None}, '/home/ziyangfu/Code/ImageCaptioning/grocery_store_images/Asparagus_Iconic.jpg': {'num_bytes': 5279, 'checksum': None}, '/home/ziyangfu/Code/ImageCaptioning/grocery_store_images/Aubergine_Iconic.jpg': {'num_bytes': 4355, 'checksum': None}, '/home/ziyangfu/Code/ImageCaptioning/grocery_store_images/Avocado_Iconic.jpg': {'num_bytes': 8251, 'checksum': None}, '/home/ziyangfu/Code/ImageCaptioning/grocery_store_images/Banana_Iconic.jpg': {'num_bytes': 6093, 'checksum': None}, '/home/ziyangfu/Code/ImageCaptioning/grocery_store_images/Beef-Tomato_Iconic.jpg': {'num_bytes': 7446, 'checksum': None}, '/home/ziyangfu/Code/ImageCaptioning/grocery_store_images/Bravo-Apple-Juice_Iconic.jpg': {'num_bytes': 8316, 'checksum': None}, '/home/ziyangfu/Code/ImageCaptioning/grocery_store_images/Bravo-Orange-Juice_Iconic.jpg': {'num_bytes': 8821, 'checksum': None}, '/home/ziyangfu/Code/ImageCaptioning/grocery_store_images/Brown-Cap-Mushroom_Iconic.jpg': {'num_bytes': 7767, 'checksum': None}, '/home/ziyangfu/Code/ImageCaptioning/grocery_store_images/Cabbage_Iconic.jpg': {'num_bytes': 7374, 'checksum': None}, '/home/ziyangfu/Code/ImageCaptioning/grocery_store_images/Cantaloupe_Iconic.jpg': {'num_bytes': 10986, 'checksum': None}, '/home/ziyangfu/Code/ImageCaptioning/grocery_store_images/Carrots_Iconic.jpg': {'num_bytes': 5795, 'checksum': None}, '/home/ziyangfu/Code/ImageCaptioning/grocery_store_images/Conference_Iconic.jpg': {'num_bytes': 6515, 'checksum': None}, '/home/ziyangfu/Code/ImageCaptioning/grocery_store_images/Cucumber_Iconic.jpg': {'num_bytes': 4281, 'checksum': None}, '/home/ziyangfu/Code/ImageCaptioning/grocery_store_images/Floury-Potato_Iconic.jpg': {'num_bytes': 11003, 'checksum': None}, '/home/ziyangfu/Code/ImageCaptioning/grocery_store_images/Galia-Melon_Iconic.jpg': {'num_bytes': 10115, 'checksum': None}, '/home/ziyangfu/Code/ImageCaptioning/grocery_store_images/Garant-Ecological-Medium-Fat-Milk_Iconic.jpg': {'num_bytes': 7658, 'checksum': None}, '/home/ziyangfu/Code/ImageCaptioning/grocery_store_images/Garant-Ecological-Standard-Milk_Iconic.jpg': {'num_bytes': 7819, 'checksum': None}, '/home/ziyangfu/Code/ImageCaptioning/grocery_store_images/Garlic_Iconic.jpg': {'num_bytes': 4857, 'checksum': None}, '/home/ziyangfu/Code/ImageCaptioning/grocery_store_images/Ginger_Iconic.jpg': {'num_bytes': 6028, 'checksum': None}, '/home/ziyangfu/Code/ImageCaptioning/grocery_store_images/God-Morgon-Apple-Juice_Iconic.jpg': {'num_bytes': 9582, 'checksum': None}, '/home/ziyangfu/Code/ImageCaptioning/grocery_store_images/God-Morgon-Orange-Juice_Iconic.jpg': {'num_bytes': 10056, 'checksum': None}, '/home/ziyangfu/Code/ImageCaptioning/grocery_store_images/God-Morgon-Orange-Red-Grapefruit-Juice_Iconic.jpg': {'num_bytes': 10378, 'checksum': None}, '/home/ziyangfu/Code/ImageCaptioning/grocery_store_images/God-Morgon-Red-Grapefruit-Juice_Iconic.jpg': {'num_bytes': 10085, 'checksum': None}, '/home/ziyangfu/Code/ImageCaptioning/grocery_store_images/Golden-Delicious_Iconic.jpg': {'num_bytes': 6151, 'checksum': None}, '/home/ziyangfu/Code/ImageCaptioning/grocery_store_images/Granny-Smith_Iconic.jpg': {'num_bytes': 10662, 'checksum': None}, '/home/ziyangfu/Code/ImageCaptioning/grocery_store_images/Green-Bell-Pepper_Iconic.jpg': {'num_bytes': 5855, 'checksum': None}, '/home/ziyangfu/Code/ImageCaptioning/grocery_store_images/Honeydew-Melon_Iconic.jpg': {'num_bytes': 8701, 'checksum': None}, '/home/ziyangfu/Code/ImageCaptioning/grocery_store_images/Kaiser_Iconic.jpg': {'num_bytes': 10330, 'checksum': None}, '/home/ziyangfu/Code/ImageCaptioning/grocery_store_images/Kiwi_Iconic.jpg': {'num_bytes': 6114, 'checksum': None}, '/home/ziyangfu/Code/ImageCaptioning/grocery_store_images/Leek_Iconic.jpg': {'num_bytes': 3528, 'checksum': None}, '/home/ziyangfu/Code/ImageCaptioning/grocery_store_images/Lemon_Iconic.jpg': {'num_bytes': 4974, 'checksum': None}, '/home/ziyangfu/Code/ImageCaptioning/grocery_store_images/Lime_Iconic.jpg': {'num_bytes': 5826, 'checksum': None}, '/home/ziyangfu/Code/ImageCaptioning/grocery_store_images/Mango_Iconic.jpg': {'num_bytes': 10037, 'checksum': None}, '/home/ziyangfu/Code/ImageCaptioning/grocery_store_images/Nectarine_Iconic.jpg': {'num_bytes': 7676, 'checksum': None}, '/home/ziyangfu/Code/ImageCaptioning/grocery_store_images/Oatly-Natural-Oatghurt_Iconic.jpg': {'num_bytes': 9424, 'checksum': None}, '/home/ziyangfu/Code/ImageCaptioning/grocery_store_images/Oatly-Oat-Milk_Iconic.jpg': {'num_bytes': 7401, 'checksum': None}, '/home/ziyangfu/Code/ImageCaptioning/grocery_store_images/Orange-Bell-Pepper_Iconic.jpg': {'num_bytes': 6070, 'checksum': None}, '/home/ziyangfu/Code/ImageCaptioning/grocery_store_images/Orange_Iconic.jpg': {'num_bytes': 7213, 'checksum': None}, '/home/ziyangfu/Code/ImageCaptioning/grocery_store_images/Papaya_Iconic.jpg': {'num_bytes': 7056, 'checksum': None}, '/home/ziyangfu/Code/ImageCaptioning/grocery_store_images/Passion-Fruit_Iconic.jpg': {'num_bytes': 8646, 'checksum': None}, '/home/ziyangfu/Code/ImageCaptioning/grocery_store_images/Peach_Iconic.jpg': {'num_bytes': 8620, 'checksum': None}, '/home/ziyangfu/Code/ImageCaptioning/grocery_store_images/Pineapple_Iconic.jpg': {'num_bytes': 6790, 'checksum': None}, '/home/ziyangfu/Code/ImageCaptioning/grocery_store_images/Pink-Lady_Iconic.jpg': {'num_bytes': 7706, 'checksum': None}, '/home/ziyangfu/Code/ImageCaptioning/grocery_store_images/Plum_Iconic.jpg': {'num_bytes': 6329, 'checksum': None}, '/home/ziyangfu/Code/ImageCaptioning/grocery_store_images/Pomegranate_Iconic.jpg': {'num_bytes': 7425, 'checksum': None}, '/home/ziyangfu/Code/ImageCaptioning/grocery_store_images/Red-Beet_Iconic.jpg': {'num_bytes': 7001, 'checksum': None}, '/home/ziyangfu/Code/ImageCaptioning/grocery_store_images/Red-Bell-Pepper_Iconic.jpg': {'num_bytes': 6015, 'checksum': None}, '/home/ziyangfu/Code/ImageCaptioning/grocery_store_images/Red-Delicious_Iconic.jpg': {'num_bytes': 12960, 'checksum': None}, '/home/ziyangfu/Code/ImageCaptioning/grocery_store_images/Red-Grapefruit_Iconic.jpg': {'num_bytes': 9159, 'checksum': None}, '/home/ziyangfu/Code/ImageCaptioning/grocery_store_images/Regular-Tomato_Iconic.jpg': {'num_bytes': 5747, 'checksum': None}, '/home/ziyangfu/Code/ImageCaptioning/grocery_store_images/Royal-Gala_Iconic.jpg': {'num_bytes': 9369, 'checksum': None}, '/home/ziyangfu/Code/ImageCaptioning/grocery_store_images/Satsumas_Iconic.jpg': {'num_bytes': 8745, 'checksum': None}, '/home/ziyangfu/Code/ImageCaptioning/grocery_store_images/Solid-Potato_Iconic.jpg': {'num_bytes': 9580, 'checksum': None}, '/home/ziyangfu/Code/ImageCaptioning/grocery_store_images/Sweet-Potato_Iconic.jpg': {'num_bytes': 5999, 'checksum': None}, '/home/ziyangfu/Code/ImageCaptioning/grocery_store_images/Tropicana-Apple-Juice_Iconic.jpg': {'num_bytes': 10250, 'checksum': None}, '/home/ziyangfu/Code/ImageCaptioning/grocery_store_images/Tropicana-Golden-Grapefruit_Iconic.jpg': {'num_bytes': 10209, 'checksum': None}, '/home/ziyangfu/Code/ImageCaptioning/grocery_store_images/Tropicana-Juice-Smooth_Iconic.jpg': {'num_bytes': 11233, 'checksum': None}, '/home/ziyangfu/Code/ImageCaptioning/grocery_store_images/Tropicana-Mandarin-Morning_Iconic.jpg': {'num_bytes': 11014, 'checksum': None}, '/home/ziyangfu/Code/ImageCaptioning/grocery_store_images/Valio-Vanilla-Yoghurt_Iconic.jpg': {'num_bytes': 7019, 'checksum': None}, '/home/ziyangfu/Code/ImageCaptioning/grocery_store_images/Vine-Tomato_Iconic.jpg': {'num_bytes': 7609, 'checksum': None}, '/home/ziyangfu/Code/ImageCaptioning/grocery_store_images/Watermelon_Iconic.jpg': {'num_bytes': 9835, 'checksum': None}, '/home/ziyangfu/Code/ImageCaptioning/grocery_store_images/Yellow-Bell-Pepper_Iconic.jpg': {'num_bytes': 6199, 'checksum': None}, '/home/ziyangfu/Code/ImageCaptioning/grocery_store_images/Yellow-Onion_Iconic.jpg': {'num_bytes': 7633, 'checksum': None}, '/home/ziyangfu/Code/ImageCaptioning/grocery_store_images/Yoggi-Strawberry-Yoghurt_Iconic.jpg': {'num_bytes': 8987, 'checksum': None}, '/home/ziyangfu/Code/ImageCaptioning/grocery_store_images/Yoggi-Vanilla-Yoghurt_Iconic.jpg': {'num_bytes': 7576, 'checksum': None}, '/home/ziyangfu/Code/ImageCaptioning/grocery_store_images/Zucchini_Iconic.jpg': {'num_bytes': 5207, 'checksum': None}, '/home/ziyangfu/Code/ImageCaptioning/grocery_store_images/metadata.jsonl': {'num_bytes': 21674, 'checksum': None}}, download_size=694098, post_processing_size=None, dataset_size=24720, size_in_bytes=718818)\n",
      "Dataset({\n",
      "    features: ['image', 'text'],\n",
      "    num_rows: 81\n",
      "})\n"
     ]
    },
    {
     "name": "stderr",
     "output_type": "stream",
     "text": [
      "\n"
     ]
    }
   ],
   "source": [
    "dataset = create_image_dataset.create_dataset(captions)\n",
    "print(dataset)"
   ]
  },
  {
   "cell_type": "code",
   "execution_count": 45,
   "metadata": {},
   "outputs": [],
   "source": [
    "from torch.utils.data import Dataset\n",
    "\n",
    "class ImageCaptioningDataset(Dataset):\n",
    "  def __init__(self, dataset, processor):\n",
    "      self.dataset = dataset\n",
    "      self.processor = processor\n",
    "\n",
    "  def __len__(self):\n",
    "      return len(self.dataset)\n",
    "\n",
    "  def __getitem__(self, idx):\n",
    "      item = self.dataset[idx]\n",
    "\n",
    "      encoding = self.processor(images=item[\"image\"], text=item[\"text\"], padding=\"max_length\", return_tensors=\"pt\")\n",
    "\n",
    "      # remove batch dimension\n",
    "      encoding = {k:v.squeeze() for k,v in encoding.items()}\n",
    "\n",
    "      return encoding"
   ]
  },
  {
   "cell_type": "code",
   "execution_count": 48,
   "metadata": {},
   "outputs": [],
   "source": [
    "from transformers import AutoProcessor\n",
    "processor = AutoProcessor.from_pretrained(\"microsoft/git-base\")\n",
    "\n",
    "train_dataset = ImageCaptioningDataset(dataset, processor)"
   ]
  },
  {
   "cell_type": "code",
   "execution_count": 64,
   "metadata": {},
   "outputs": [],
   "source": [
    "from torch.utils.data import DataLoader\n",
    "train_dataloader = DataLoader(train_dataset, shuffle=True, batch_size=3)"
   ]
  },
  {
   "cell_type": "code",
   "execution_count": 60,
   "metadata": {},
   "outputs": [],
   "source": [
    "import torch\n",
    "\n",
    "\n",
    "class Transformer_model: \n",
    "    def __init__(self, model):\n",
    "        self.model = model.to(\"cpu\") \n",
    "        self.device = self.model.device \n",
    "        self.optimizer = torch.optim.AdamW(self.model.parameters(), lr=5e-5)\n",
    "\n",
    "    def model_train(self, epochs, train_dataloader): \n",
    "        for epoch in range(epochs): # Use the specified number of epochs\n",
    "            print(\"Epoch:\", epoch)\n",
    "            for idx, batch in enumerate(train_dataloader):\n",
    "                input_ids = batch.pop(\"input_ids\").to(self.device)\n",
    "                pixel_values = batch.pop(\"pixel_values\").to(self.device)\n",
    "\n",
    "                outputs = self.model(input_ids=input_ids, pixel_values=pixel_values, labels=input_ids)\n",
    "\n",
    "                loss = outputs.loss\n",
    "                # print(\"Loss:\", loss.item())\n",
    "                loss.backward()\n",
    "                self.optimizer.step()\n",
    "                self.optimizer.zero_grad()\n",
    "\n",
    "        return self.model \n",
    "\n",
    "    @staticmethod\n",
    "    def model_inference(image, processor, model): \n",
    "        inputs = processor(images=image, return_tensors=\"pt\").to(model.device) \n",
    "        pixel_values = inputs.pixel_values\n",
    "        generated_ids = model.generate(pixel_values=pixel_values)\n",
    "        generated_caption = processor.batch_decode(generated_ids, skip_special_tokens=True)[0]\n",
    "        print(generated_caption)\n"
   ]
  },
  {
   "cell_type": "code",
   "execution_count": 61,
   "metadata": {},
   "outputs": [],
   "source": [
    "from transformers import AutoModelForCausalLM\n",
    "model = AutoModelForCausalLM.from_pretrained(\"microsoft/git-base\")"
   ]
  },
  {
   "cell_type": "code",
   "execution_count": 63,
   "metadata": {},
   "outputs": [
    {
     "name": "stderr",
     "output_type": "stream",
     "text": [
      "Unused or unrecognized kwargs: padding.\n"
     ]
    },
    {
     "name": "stdout",
     "output_type": "stream",
     "text": [
      "Epoch: 0\n"
     ]
    },
    {
     "ename": "KeyboardInterrupt",
     "evalue": "",
     "output_type": "error",
     "traceback": [
      "\u001b[0;31m---------------------------------------------------------------------------\u001b[0m",
      "\u001b[0;31mKeyboardInterrupt\u001b[0m                         Traceback (most recent call last)",
      "Cell \u001b[0;32mIn[63], line 2\u001b[0m\n\u001b[1;32m      1\u001b[0m Transformer \u001b[38;5;241m=\u001b[39m Transformer_model(model)\n\u001b[0;32m----> 2\u001b[0m model \u001b[38;5;241m=\u001b[39m \u001b[43mTransformer\u001b[49m\u001b[38;5;241;43m.\u001b[39;49m\u001b[43mmodel_train\u001b[49m\u001b[43m(\u001b[49m\u001b[38;5;241;43m20\u001b[39;49m\u001b[43m,\u001b[49m\u001b[43m \u001b[49m\u001b[43mtrain_dataloader\u001b[49m\u001b[43m)\u001b[49m\n",
      "Cell \u001b[0;32mIn[60], line 17\u001b[0m, in \u001b[0;36mTransformer_model.model_train\u001b[0;34m(self, epochs, train_dataloader)\u001b[0m\n\u001b[1;32m     14\u001b[0m input_ids \u001b[38;5;241m=\u001b[39m batch\u001b[38;5;241m.\u001b[39mpop(\u001b[38;5;124m\"\u001b[39m\u001b[38;5;124minput_ids\u001b[39m\u001b[38;5;124m\"\u001b[39m)\u001b[38;5;241m.\u001b[39mto(\u001b[38;5;28mself\u001b[39m\u001b[38;5;241m.\u001b[39mdevice)\n\u001b[1;32m     15\u001b[0m pixel_values \u001b[38;5;241m=\u001b[39m batch\u001b[38;5;241m.\u001b[39mpop(\u001b[38;5;124m\"\u001b[39m\u001b[38;5;124mpixel_values\u001b[39m\u001b[38;5;124m\"\u001b[39m)\u001b[38;5;241m.\u001b[39mto(\u001b[38;5;28mself\u001b[39m\u001b[38;5;241m.\u001b[39mdevice)\n\u001b[0;32m---> 17\u001b[0m outputs \u001b[38;5;241m=\u001b[39m \u001b[38;5;28;43mself\u001b[39;49m\u001b[38;5;241;43m.\u001b[39;49m\u001b[43mmodel\u001b[49m\u001b[43m(\u001b[49m\u001b[43minput_ids\u001b[49m\u001b[38;5;241;43m=\u001b[39;49m\u001b[43minput_ids\u001b[49m\u001b[43m,\u001b[49m\u001b[43m \u001b[49m\u001b[43mpixel_values\u001b[49m\u001b[38;5;241;43m=\u001b[39;49m\u001b[43mpixel_values\u001b[49m\u001b[43m,\u001b[49m\u001b[43m \u001b[49m\u001b[43mlabels\u001b[49m\u001b[38;5;241;43m=\u001b[39;49m\u001b[43minput_ids\u001b[49m\u001b[43m)\u001b[49m\n\u001b[1;32m     19\u001b[0m loss \u001b[38;5;241m=\u001b[39m outputs\u001b[38;5;241m.\u001b[39mloss\n\u001b[1;32m     20\u001b[0m \u001b[38;5;28mprint\u001b[39m(\u001b[38;5;124m\"\u001b[39m\u001b[38;5;124mLoss:\u001b[39m\u001b[38;5;124m\"\u001b[39m, loss\u001b[38;5;241m.\u001b[39mitem())\n",
      "File \u001b[0;32m~/Code/ImageCaptioning/venv/lib/python3.10/site-packages/torch/nn/modules/module.py:1511\u001b[0m, in \u001b[0;36mModule._wrapped_call_impl\u001b[0;34m(self, *args, **kwargs)\u001b[0m\n\u001b[1;32m   1509\u001b[0m     \u001b[38;5;28;01mreturn\u001b[39;00m \u001b[38;5;28mself\u001b[39m\u001b[38;5;241m.\u001b[39m_compiled_call_impl(\u001b[38;5;241m*\u001b[39margs, \u001b[38;5;241m*\u001b[39m\u001b[38;5;241m*\u001b[39mkwargs)  \u001b[38;5;66;03m# type: ignore[misc]\u001b[39;00m\n\u001b[1;32m   1510\u001b[0m \u001b[38;5;28;01melse\u001b[39;00m:\n\u001b[0;32m-> 1511\u001b[0m     \u001b[38;5;28;01mreturn\u001b[39;00m \u001b[38;5;28;43mself\u001b[39;49m\u001b[38;5;241;43m.\u001b[39;49m\u001b[43m_call_impl\u001b[49m\u001b[43m(\u001b[49m\u001b[38;5;241;43m*\u001b[39;49m\u001b[43margs\u001b[49m\u001b[43m,\u001b[49m\u001b[43m \u001b[49m\u001b[38;5;241;43m*\u001b[39;49m\u001b[38;5;241;43m*\u001b[39;49m\u001b[43mkwargs\u001b[49m\u001b[43m)\u001b[49m\n",
      "File \u001b[0;32m~/Code/ImageCaptioning/venv/lib/python3.10/site-packages/torch/nn/modules/module.py:1520\u001b[0m, in \u001b[0;36mModule._call_impl\u001b[0;34m(self, *args, **kwargs)\u001b[0m\n\u001b[1;32m   1515\u001b[0m \u001b[38;5;66;03m# If we don't have any hooks, we want to skip the rest of the logic in\u001b[39;00m\n\u001b[1;32m   1516\u001b[0m \u001b[38;5;66;03m# this function, and just call forward.\u001b[39;00m\n\u001b[1;32m   1517\u001b[0m \u001b[38;5;28;01mif\u001b[39;00m \u001b[38;5;129;01mnot\u001b[39;00m (\u001b[38;5;28mself\u001b[39m\u001b[38;5;241m.\u001b[39m_backward_hooks \u001b[38;5;129;01mor\u001b[39;00m \u001b[38;5;28mself\u001b[39m\u001b[38;5;241m.\u001b[39m_backward_pre_hooks \u001b[38;5;129;01mor\u001b[39;00m \u001b[38;5;28mself\u001b[39m\u001b[38;5;241m.\u001b[39m_forward_hooks \u001b[38;5;129;01mor\u001b[39;00m \u001b[38;5;28mself\u001b[39m\u001b[38;5;241m.\u001b[39m_forward_pre_hooks\n\u001b[1;32m   1518\u001b[0m         \u001b[38;5;129;01mor\u001b[39;00m _global_backward_pre_hooks \u001b[38;5;129;01mor\u001b[39;00m _global_backward_hooks\n\u001b[1;32m   1519\u001b[0m         \u001b[38;5;129;01mor\u001b[39;00m _global_forward_hooks \u001b[38;5;129;01mor\u001b[39;00m _global_forward_pre_hooks):\n\u001b[0;32m-> 1520\u001b[0m     \u001b[38;5;28;01mreturn\u001b[39;00m \u001b[43mforward_call\u001b[49m\u001b[43m(\u001b[49m\u001b[38;5;241;43m*\u001b[39;49m\u001b[43margs\u001b[49m\u001b[43m,\u001b[49m\u001b[43m \u001b[49m\u001b[38;5;241;43m*\u001b[39;49m\u001b[38;5;241;43m*\u001b[39;49m\u001b[43mkwargs\u001b[49m\u001b[43m)\u001b[49m\n\u001b[1;32m   1522\u001b[0m \u001b[38;5;28;01mtry\u001b[39;00m:\n\u001b[1;32m   1523\u001b[0m     result \u001b[38;5;241m=\u001b[39m \u001b[38;5;28;01mNone\u001b[39;00m\n",
      "File \u001b[0;32m~/Code/ImageCaptioning/venv/lib/python3.10/site-packages/transformers/models/git/modeling_git.py:1503\u001b[0m, in \u001b[0;36mGitForCausalLM.forward\u001b[0;34m(self, input_ids, attention_mask, position_ids, pixel_values, head_mask, inputs_embeds, labels, past_key_values, use_cache, output_attentions, output_hidden_states, return_dict)\u001b[0m\n\u001b[1;32m   1501\u001b[0m     labels \u001b[38;5;241m=\u001b[39m labels[:, \u001b[38;5;241m1\u001b[39m:]\u001b[38;5;241m.\u001b[39mcontiguous()\n\u001b[1;32m   1502\u001b[0m     loss_fct \u001b[38;5;241m=\u001b[39m CrossEntropyLoss()\n\u001b[0;32m-> 1503\u001b[0m     loss \u001b[38;5;241m=\u001b[39m \u001b[43mloss_fct\u001b[49m\u001b[43m(\u001b[49m\u001b[43mshifted_logits\u001b[49m\u001b[38;5;241;43m.\u001b[39;49m\u001b[43mview\u001b[49m\u001b[43m(\u001b[49m\u001b[38;5;241;43m-\u001b[39;49m\u001b[38;5;241;43m1\u001b[39;49m\u001b[43m,\u001b[49m\u001b[43m \u001b[49m\u001b[38;5;28;43mself\u001b[39;49m\u001b[38;5;241;43m.\u001b[39;49m\u001b[43mconfig\u001b[49m\u001b[38;5;241;43m.\u001b[39;49m\u001b[43mvocab_size\u001b[49m\u001b[43m)\u001b[49m\u001b[43m,\u001b[49m\u001b[43m \u001b[49m\u001b[43mlabels\u001b[49m\u001b[38;5;241;43m.\u001b[39;49m\u001b[43mview\u001b[49m\u001b[43m(\u001b[49m\u001b[38;5;241;43m-\u001b[39;49m\u001b[38;5;241;43m1\u001b[39;49m\u001b[43m)\u001b[49m\u001b[43m)\u001b[49m\n\u001b[1;32m   1505\u001b[0m \u001b[38;5;28;01mif\u001b[39;00m \u001b[38;5;129;01mnot\u001b[39;00m return_dict:\n\u001b[1;32m   1506\u001b[0m     output \u001b[38;5;241m=\u001b[39m (logits,) \u001b[38;5;241m+\u001b[39m outputs[\u001b[38;5;241m1\u001b[39m:]\n",
      "File \u001b[0;32m~/Code/ImageCaptioning/venv/lib/python3.10/site-packages/torch/nn/modules/module.py:1511\u001b[0m, in \u001b[0;36mModule._wrapped_call_impl\u001b[0;34m(self, *args, **kwargs)\u001b[0m\n\u001b[1;32m   1509\u001b[0m     \u001b[38;5;28;01mreturn\u001b[39;00m \u001b[38;5;28mself\u001b[39m\u001b[38;5;241m.\u001b[39m_compiled_call_impl(\u001b[38;5;241m*\u001b[39margs, \u001b[38;5;241m*\u001b[39m\u001b[38;5;241m*\u001b[39mkwargs)  \u001b[38;5;66;03m# type: ignore[misc]\u001b[39;00m\n\u001b[1;32m   1510\u001b[0m \u001b[38;5;28;01melse\u001b[39;00m:\n\u001b[0;32m-> 1511\u001b[0m     \u001b[38;5;28;01mreturn\u001b[39;00m \u001b[38;5;28;43mself\u001b[39;49m\u001b[38;5;241;43m.\u001b[39;49m\u001b[43m_call_impl\u001b[49m\u001b[43m(\u001b[49m\u001b[38;5;241;43m*\u001b[39;49m\u001b[43margs\u001b[49m\u001b[43m,\u001b[49m\u001b[43m \u001b[49m\u001b[38;5;241;43m*\u001b[39;49m\u001b[38;5;241;43m*\u001b[39;49m\u001b[43mkwargs\u001b[49m\u001b[43m)\u001b[49m\n",
      "File \u001b[0;32m~/Code/ImageCaptioning/venv/lib/python3.10/site-packages/torch/nn/modules/module.py:1520\u001b[0m, in \u001b[0;36mModule._call_impl\u001b[0;34m(self, *args, **kwargs)\u001b[0m\n\u001b[1;32m   1515\u001b[0m \u001b[38;5;66;03m# If we don't have any hooks, we want to skip the rest of the logic in\u001b[39;00m\n\u001b[1;32m   1516\u001b[0m \u001b[38;5;66;03m# this function, and just call forward.\u001b[39;00m\n\u001b[1;32m   1517\u001b[0m \u001b[38;5;28;01mif\u001b[39;00m \u001b[38;5;129;01mnot\u001b[39;00m (\u001b[38;5;28mself\u001b[39m\u001b[38;5;241m.\u001b[39m_backward_hooks \u001b[38;5;129;01mor\u001b[39;00m \u001b[38;5;28mself\u001b[39m\u001b[38;5;241m.\u001b[39m_backward_pre_hooks \u001b[38;5;129;01mor\u001b[39;00m \u001b[38;5;28mself\u001b[39m\u001b[38;5;241m.\u001b[39m_forward_hooks \u001b[38;5;129;01mor\u001b[39;00m \u001b[38;5;28mself\u001b[39m\u001b[38;5;241m.\u001b[39m_forward_pre_hooks\n\u001b[1;32m   1518\u001b[0m         \u001b[38;5;129;01mor\u001b[39;00m _global_backward_pre_hooks \u001b[38;5;129;01mor\u001b[39;00m _global_backward_hooks\n\u001b[1;32m   1519\u001b[0m         \u001b[38;5;129;01mor\u001b[39;00m _global_forward_hooks \u001b[38;5;129;01mor\u001b[39;00m _global_forward_pre_hooks):\n\u001b[0;32m-> 1520\u001b[0m     \u001b[38;5;28;01mreturn\u001b[39;00m \u001b[43mforward_call\u001b[49m\u001b[43m(\u001b[49m\u001b[38;5;241;43m*\u001b[39;49m\u001b[43margs\u001b[49m\u001b[43m,\u001b[49m\u001b[43m \u001b[49m\u001b[38;5;241;43m*\u001b[39;49m\u001b[38;5;241;43m*\u001b[39;49m\u001b[43mkwargs\u001b[49m\u001b[43m)\u001b[49m\n\u001b[1;32m   1522\u001b[0m \u001b[38;5;28;01mtry\u001b[39;00m:\n\u001b[1;32m   1523\u001b[0m     result \u001b[38;5;241m=\u001b[39m \u001b[38;5;28;01mNone\u001b[39;00m\n",
      "File \u001b[0;32m~/Code/ImageCaptioning/venv/lib/python3.10/site-packages/torch/nn/modules/loss.py:1179\u001b[0m, in \u001b[0;36mCrossEntropyLoss.forward\u001b[0;34m(self, input, target)\u001b[0m\n\u001b[1;32m   1178\u001b[0m \u001b[38;5;28;01mdef\u001b[39;00m \u001b[38;5;21mforward\u001b[39m(\u001b[38;5;28mself\u001b[39m, \u001b[38;5;28minput\u001b[39m: Tensor, target: Tensor) \u001b[38;5;241m-\u001b[39m\u001b[38;5;241m>\u001b[39m Tensor:\n\u001b[0;32m-> 1179\u001b[0m     \u001b[38;5;28;01mreturn\u001b[39;00m \u001b[43mF\u001b[49m\u001b[38;5;241;43m.\u001b[39;49m\u001b[43mcross_entropy\u001b[49m\u001b[43m(\u001b[49m\u001b[38;5;28;43minput\u001b[39;49m\u001b[43m,\u001b[49m\u001b[43m \u001b[49m\u001b[43mtarget\u001b[49m\u001b[43m,\u001b[49m\u001b[43m \u001b[49m\u001b[43mweight\u001b[49m\u001b[38;5;241;43m=\u001b[39;49m\u001b[38;5;28;43mself\u001b[39;49m\u001b[38;5;241;43m.\u001b[39;49m\u001b[43mweight\u001b[49m\u001b[43m,\u001b[49m\n\u001b[1;32m   1180\u001b[0m \u001b[43m                           \u001b[49m\u001b[43mignore_index\u001b[49m\u001b[38;5;241;43m=\u001b[39;49m\u001b[38;5;28;43mself\u001b[39;49m\u001b[38;5;241;43m.\u001b[39;49m\u001b[43mignore_index\u001b[49m\u001b[43m,\u001b[49m\u001b[43m \u001b[49m\u001b[43mreduction\u001b[49m\u001b[38;5;241;43m=\u001b[39;49m\u001b[38;5;28;43mself\u001b[39;49m\u001b[38;5;241;43m.\u001b[39;49m\u001b[43mreduction\u001b[49m\u001b[43m,\u001b[49m\n\u001b[1;32m   1181\u001b[0m \u001b[43m                           \u001b[49m\u001b[43mlabel_smoothing\u001b[49m\u001b[38;5;241;43m=\u001b[39;49m\u001b[38;5;28;43mself\u001b[39;49m\u001b[38;5;241;43m.\u001b[39;49m\u001b[43mlabel_smoothing\u001b[49m\u001b[43m)\u001b[49m\n",
      "File \u001b[0;32m~/Code/ImageCaptioning/venv/lib/python3.10/site-packages/torch/nn/functional.py:3059\u001b[0m, in \u001b[0;36mcross_entropy\u001b[0;34m(input, target, weight, size_average, ignore_index, reduce, reduction, label_smoothing)\u001b[0m\n\u001b[1;32m   3057\u001b[0m \u001b[38;5;28;01mif\u001b[39;00m size_average \u001b[38;5;129;01mis\u001b[39;00m \u001b[38;5;129;01mnot\u001b[39;00m \u001b[38;5;28;01mNone\u001b[39;00m \u001b[38;5;129;01mor\u001b[39;00m reduce \u001b[38;5;129;01mis\u001b[39;00m \u001b[38;5;129;01mnot\u001b[39;00m \u001b[38;5;28;01mNone\u001b[39;00m:\n\u001b[1;32m   3058\u001b[0m     reduction \u001b[38;5;241m=\u001b[39m _Reduction\u001b[38;5;241m.\u001b[39mlegacy_get_string(size_average, reduce)\n\u001b[0;32m-> 3059\u001b[0m \u001b[38;5;28;01mreturn\u001b[39;00m \u001b[43mtorch\u001b[49m\u001b[38;5;241;43m.\u001b[39;49m\u001b[43m_C\u001b[49m\u001b[38;5;241;43m.\u001b[39;49m\u001b[43m_nn\u001b[49m\u001b[38;5;241;43m.\u001b[39;49m\u001b[43mcross_entropy_loss\u001b[49m\u001b[43m(\u001b[49m\u001b[38;5;28;43minput\u001b[39;49m\u001b[43m,\u001b[49m\u001b[43m \u001b[49m\u001b[43mtarget\u001b[49m\u001b[43m,\u001b[49m\u001b[43m \u001b[49m\u001b[43mweight\u001b[49m\u001b[43m,\u001b[49m\u001b[43m \u001b[49m\u001b[43m_Reduction\u001b[49m\u001b[38;5;241;43m.\u001b[39;49m\u001b[43mget_enum\u001b[49m\u001b[43m(\u001b[49m\u001b[43mreduction\u001b[49m\u001b[43m)\u001b[49m\u001b[43m,\u001b[49m\u001b[43m \u001b[49m\u001b[43mignore_index\u001b[49m\u001b[43m,\u001b[49m\u001b[43m \u001b[49m\u001b[43mlabel_smoothing\u001b[49m\u001b[43m)\u001b[49m\n",
      "\u001b[0;31mKeyboardInterrupt\u001b[0m: "
     ]
    }
   ],
   "source": [
    "Transformer = Transformer_model(model)\n",
    "model = Transformer.model_train(20, train_dataloader)"
   ]
  }
 ],
 "metadata": {
  "kernelspec": {
   "display_name": "venv",
   "language": "python",
   "name": "python3"
  },
  "language_info": {
   "codemirror_mode": {
    "name": "ipython",
    "version": 3
   },
   "file_extension": ".py",
   "mimetype": "text/x-python",
   "name": "python",
   "nbconvert_exporter": "python",
   "pygments_lexer": "ipython3",
   "version": "3.10.12"
  }
 },
 "nbformat": 4,
 "nbformat_minor": 2
}
